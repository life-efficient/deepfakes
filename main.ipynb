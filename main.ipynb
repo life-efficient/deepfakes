{
  "cells": [
    {
      "cell_type": "markdown",
      "metadata": {
        "id": "D3L8Lkyj-5gl"
      },
      "source": [
        "#Clone roop repo and install dependencies"
      ]
    },
    {
      "cell_type": "code",
      "execution_count": null,
      "metadata": {
        "colab": {
          "base_uri": "https://localhost:8080/"
        },
        "id": "0aHr4Fo-7IRy",
        "outputId": "ba8a65f8-3ea1-479c-aec2-c971508d4084"
      },
      "outputs": [],
      "source": [
        "# !git clone https://github.com/s0md3v/roop.git\n",
        "# !git checkout cb5ccd90022bf4af618d290e0016d587cbd5c6c4\n",
        "%cd roop\n",
        "!pip install -r requirements.txt"
      ]
    },
    {
      "cell_type": "markdown",
      "metadata": {
        "id": "jl9zIFZYGWTQ"
      },
      "source": [
        "#download model"
      ]
    },
    {
      "cell_type": "code",
      "execution_count": null,
      "metadata": {
        "id": "UQH2exUYGTbK"
      },
      "outputs": [],
      "source": [
        "# !wget https://huggingface.co/ezioruan/inswapper_128.onnx/resolve/main/inswapper_128.onnx -O inswapper_128.onnx\n",
        "# !mv inswapper_128.onnx ./models"
      ]
    },
    {
      "cell_type": "markdown",
      "metadata": {
        "id": "nCKli1C-_EaO"
      },
      "source": [
        "#Deepfake"
      ]
    },
    {
      "cell_type": "code",
      "execution_count": null,
      "metadata": {
        "colab": {
          "base_uri": "https://localhost:8080/"
        },
        "id": "lDYdfL3L71i1",
        "outputId": "c8846c0e-8d71-47a9-9549-d0644d7c7d18"
      },
      "outputs": [],
      "source": [
        "!python run.py --target ./content/target.mp4 --output-video-quality 80 --source ./content/source.jpg -o /content/swapped.mp4 --execution-provider cuda --frame-processor face_swapper face_enhancer"
      ]
    },
    {
      "cell_type": "code",
      "execution_count": null,
      "metadata": {
        "id": "dB-yigWx8zht"
      },
      "outputs": [],
      "source": []
    }
  ],
  "metadata": {
    "accelerator": "GPU",
    "colab": {
      "provenance": []
    },
    "kernelspec": {
      "display_name": "Python 3",
      "name": "python3"
    },
    "language_info": {
      "name": "python"
    }
  },
  "nbformat": 4,
  "nbformat_minor": 0
}
